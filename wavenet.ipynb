{
 "cells": [
  {
   "cell_type": "code",
   "execution_count": 1,
   "metadata": {},
   "outputs": [],
   "source": [
    "import torch \n",
    "from torch.nn import functional as F\n",
    "import matplotlib.pyplot as plt \n",
    "\n",
    "from sys import exit as e\n",
    "\n",
    "plt.rcParams['figure.figsize'] = (8, 6)"
   ]
  },
  {
   "cell_type": "code",
   "execution_count": 2,
   "metadata": {},
   "outputs": [
    {
     "name": "stdout",
     "output_type": "stream",
     "text": [
      "32033\n"
     ]
    }
   ],
   "source": [
    "words = open(\"./data/names.txt\", 'r').read().splitlines()\n",
    "print(len(words))"
   ]
  },
  {
   "cell_type": "code",
   "execution_count": 3,
   "metadata": {},
   "outputs": [
    {
     "data": {
      "text/plain": [
       "27"
      ]
     },
     "execution_count": 3,
     "metadata": {},
     "output_type": "execute_result"
    }
   ],
   "source": [
    "unique_char = sorted(list(set(''.join(words))))\n",
    "\n",
    "stoi = {c:i+1 for i, c in enumerate(unique_char)}\n",
    "stoi['.'] = 0\n",
    "itos = {i:s for s, i in stoi.items()}\n",
    "vocab_size = len(stoi)\n",
    "vocab_size"
   ]
  },
  {
   "cell_type": "code",
   "execution_count": 4,
   "metadata": {},
   "outputs": [
    {
     "name": "stdout",
     "output_type": "stream",
     "text": [
      "torch.Size([182625, 8]) torch.Size([22655, 8]) torch.Size([22866, 8])\n",
      "torch.Size([182625]) torch.Size([22655]) torch.Size([22866])\n"
     ]
    }
   ],
   "source": [
    "def build_dataset(words, block_size, stoi):\n",
    "  xs = []\n",
    "  ys = []\n",
    "  for word in words:\n",
    "    context = [0] * block_size\n",
    "    for ch in word + '.':\n",
    "      xs.append(context)\n",
    "      ys.append(stoi[ch])\n",
    "      # print(\"x: \", ''.join([itos[c] for c in context]))\n",
    "      # print(\"label: \", ch)\n",
    "      context = context[1:] + [stoi[ch]]\n",
    "  \n",
    "  xs = torch.tensor(xs)\n",
    "  ys = torch.tensor(ys)\n",
    "  return xs, ys\n",
    "\n",
    "import random \n",
    "random.seed(42)\n",
    "random.shuffle(words)\n",
    "\n",
    "t1 = int(0.8 * len(words))\n",
    "t2 = int(0.9 * len(words))\n",
    "\n",
    "\n",
    "\n",
    "block_size = 8\n",
    "Xtr, ytr = build_dataset(words[:t1], block_size=block_size, stoi=stoi)\n",
    "Xval, yval = build_dataset(words[t1:t2], block_size=block_size, stoi=stoi)\n",
    "Xte, yte = build_dataset(words[t2:], block_size=block_size, stoi=stoi)\n",
    "\n",
    "print(Xtr.shape, Xval.shape, Xte.shape)\n",
    "print(ytr.shape, yval.shape, yte.shape)"
   ]
  },
  {
   "cell_type": "code",
   "execution_count": 5,
   "metadata": {},
   "outputs": [],
   "source": [
    "class Linear:\n",
    "  def __init__(self, fan_in, fan_out, bias=True) -> None:\n",
    "    self.weight = torch.randn((fan_in, fan_out)) / fan_in ** 0.5\n",
    "    self.bias = torch.randn((fan_out)) if bias else None\n",
    "    self.is_bias = bias\n",
    "  \n",
    "  def __call__(self, x):\n",
    "    self.out = x @ self.weight \n",
    "    if self.is_bias:\n",
    "      self.out += self.bias\n",
    "    \n",
    "    return self.out \n",
    "  \n",
    "  def parameters(self):\n",
    "    return [self.weight] + ([] if not self.is_bias else [self.bias])\n",
    "  \n",
    "class Tanh:\n",
    "  def __call__(self, x) -> torch.Tensor:\n",
    "    self.out = F.tanh(x)\n",
    "    return self.out \n",
    "  \n",
    "  def parameters(self):\n",
    "    return []\n",
    "\n",
    "class BatchNorm1d:\n",
    "  def __init__(self, num_features, eps=1e-5, momentum=0.1) -> None:\n",
    "    self.training = True \n",
    "    self.eps = eps \n",
    "    self.momentum = momentum\n",
    "\n",
    "    self.gamma = torch.ones(num_features)\n",
    "    self.beta = torch.zeros(num_features)\n",
    "\n",
    "    self.running_mean = torch.zeros((num_features))\n",
    "    self.running_var = torch.ones((num_features))\n",
    "\n",
    "  def __call__(self, x):\n",
    "    if self.training:\n",
    "\n",
    "      if x.ndim == 2:\n",
    "        dim = 0 \n",
    "      elif x.ndim == 3:\n",
    "        dim = (0, 1)\n",
    "      mu = x.mean(dim, keepdim=True)\n",
    "      var = x.var(dim, keepdim=True)\n",
    "    else:\n",
    "      mu = self.running_mean\n",
    "      var = self.running_var\n",
    "    \n",
    "    xhat = ((x - mu) * (var + self.eps)**-0.5) \n",
    "    self.out = xhat * self.gamma + self.beta\n",
    "    if self.training:\n",
    "      with torch.no_grad():\n",
    "        self.running_mean = (1-self.momentum) * self.running_mean + self.momentum * mu\n",
    "        self.running_var = (1-self.momentum) * self.running_var + self.momentum * var\n",
    "    return self.out\n",
    "  \n",
    "  def parameters(self):\n",
    "    return [self.beta, self.gamma]\n",
    "\n",
    "\n",
    "class Embedding:\n",
    "  def __init__(self, num_embeddings, embedding_dim) -> None:\n",
    "    self.weight = torch.randn((num_embeddings, embedding_dim))\n",
    "  \n",
    "  def __call__(self,ix):\n",
    "    self.out = self.weight[ix]\n",
    "    return self.out \n",
    "  \n",
    "  def parameters(self):\n",
    "    return [self.weight]\n",
    "  \n",
    "\n",
    "class FlattenConsecutive:\n",
    "  def __init__(self, n) -> None:\n",
    "    self.n = n\n",
    "\n",
    "  def __call__(self, x):\n",
    "    B, T, C = x.shape\n",
    "    x = x.view(B, T//self.n, C*self.n)\n",
    "\n",
    "    if x.shape[1] == 1:\n",
    "      x = x.squeeze(1)\n",
    "\n",
    "    self.out = x\n",
    "    return self.out \n",
    "  \n",
    "  def parameters(self):\n",
    "    return []\n",
    "  \n",
    "class Sequential:\n",
    "  def __init__(self, layers) -> None:\n",
    "    self.layers = layers \n",
    "  \n",
    "  def __call__(self, x):\n",
    "    for layer in self.layers:\n",
    "      x = layer(x)\n",
    "    self.out = x \n",
    "    return self.out \n",
    "  \n",
    "  def parameters(self):\n",
    "    return [p for layer in self.layers for p in layer.parameters()]"
   ]
  },
  {
   "cell_type": "code",
   "execution_count": 6,
   "metadata": {},
   "outputs": [
    {
     "data": {
      "text/plain": [
       "<torch._C.Generator at 0x7f6db0fd1c10>"
      ]
     },
     "execution_count": 6,
     "metadata": {},
     "output_type": "execute_result"
    }
   ],
   "source": [
    "torch.manual_seed(42)"
   ]
  },
  {
   "cell_type": "code",
   "execution_count": 7,
   "metadata": {},
   "outputs": [
    {
     "name": "stdout",
     "output_type": "stream",
     "text": [
      "76579\n"
     ]
    }
   ],
   "source": [
    "n_embed = 24\n",
    "n_hidden = 128 \n",
    "\n",
    "layers = [\n",
    "  Embedding(vocab_size, n_embed), \n",
    "  FlattenConsecutive(2), Linear(n_embed * 2, n_hidden, bias=False), BatchNorm1d(n_hidden), Tanh(), \n",
    "  FlattenConsecutive(2), Linear(n_hidden * 2, n_hidden, bias=False), BatchNorm1d(n_hidden), Tanh(), \n",
    "  FlattenConsecutive(2), Linear(n_hidden * 2, n_hidden, bias=False), BatchNorm1d(n_hidden), Tanh(), \n",
    "  Linear(n_hidden, vocab_size), \n",
    "]\n",
    "\n",
    "model = Sequential(layers)\n",
    "\n",
    "with torch.no_grad():\n",
    "  layers[-1].weight *= 0.1\n",
    "\n",
    "parameters = model.parameters()\n",
    "print(sum(p.nelement() for p in parameters))\n",
    "for p in parameters:\n",
    "  p.requires_grad=True"
   ]
  },
  {
   "cell_type": "code",
   "execution_count": 8,
   "metadata": {},
   "outputs": [
    {
     "name": "stdout",
     "output_type": "stream",
     "text": [
      "0/200000:  4.6212\n",
      "10000/200000:  2.1471\n",
      "20000/200000:  1.5086\n",
      "30000/200000:  2.1991\n",
      "40000/200000:  2.0678\n",
      "50000/200000:  1.8112\n",
      "60000/200000:  2.3209\n",
      "70000/200000:  1.9109\n",
      "80000/200000:  1.5972\n",
      "90000/200000:  1.8337\n",
      "100000/200000:  2.0202\n",
      "110000/200000:  2.2036\n",
      "120000/200000:  1.8095\n",
      "130000/200000:  2.1152\n",
      "140000/200000:  1.8250\n",
      "150000/200000:  2.0178\n",
      "160000/200000:  2.1732\n",
      "170000/200000:  1.8397\n"
     ]
    }
   ],
   "source": [
    "max_steps = 200000\n",
    "batch_size = 32 \n",
    "lossi = []\n",
    "\n",
    "for i in range(max_steps):\n",
    "  ix = torch.randint(0, Xtr.shape[0], size=(batch_size, ))\n",
    "  Xb, yb = Xtr[ix], ytr[ix]\n",
    "\n",
    "  logits = model(Xb)\n",
    "  loss = F.cross_entropy(logits, yb)\n",
    "\n",
    "  for p in parameters:\n",
    "    p.grad = None \n",
    "\n",
    "  loss.backward()\n",
    "  \n",
    "  lr = 0.1 if i < 100000 else 0.01 \n",
    "  for p in parameters:\n",
    "    p.data += -lr * p.grad\n",
    "\n",
    "  if i % 10000 == 0:\n",
    "    print(f\"{i}/{max_steps}: {loss.item(): .4f}\")\n",
    "  \n",
    "  lossi.append(loss.log10().item())"
   ]
  },
  {
   "cell_type": "code",
   "execution_count": null,
   "metadata": {},
   "outputs": [
    {
     "name": "stdout",
     "output_type": "stream",
     "text": [
      "Embedding: torch.Size([32, 8, 10])\n",
      "FlattenConsecutive: torch.Size([32, 4, 20])\n",
      "Linear: torch.Size([32, 4, 68])\n",
      "BatchNorm1d: torch.Size([32, 4, 68])\n",
      "BatchNorm1d: torch.Size([1, 1, 68])\n",
      "BatchNorm1d: torch.Size([1, 1, 68])\n",
      "Tanh: torch.Size([32, 4, 68])\n",
      "FlattenConsecutive: torch.Size([32, 2, 136])\n",
      "Linear: torch.Size([32, 2, 68])\n",
      "BatchNorm1d: torch.Size([32, 2, 68])\n",
      "BatchNorm1d: torch.Size([1, 1, 68])\n",
      "BatchNorm1d: torch.Size([1, 1, 68])\n",
      "Tanh: torch.Size([32, 2, 68])\n",
      "FlattenConsecutive: torch.Size([32, 136])\n",
      "Linear: torch.Size([32, 68])\n",
      "BatchNorm1d: torch.Size([32, 68])\n",
      "BatchNorm1d: torch.Size([1, 68])\n",
      "BatchNorm1d: torch.Size([1, 68])\n",
      "Tanh: torch.Size([32, 68])\n",
      "Linear: torch.Size([32, 27])\n"
     ]
    }
   ],
   "source": [
    "for layer in model.layers:\n",
    "  print(f\"{layer.__class__.__name__}: {layer.out.shape}\")\n",
    "  if isinstance(layer, BatchNorm1d):\n",
    "    print(f\"{layer.__class__.__name__}: {layer.running_mean.shape}\")\n",
    "    print(f\"{layer.__class__.__name__}: {layer.running_var.shape}\")"
   ]
  },
  {
   "cell_type": "code",
   "execution_count": null,
   "metadata": {},
   "outputs": [
    {
     "data": {
      "text/plain": [
       "[<matplotlib.lines.Line2D at 0x7f08b07ddd20>]"
      ]
     },
     "execution_count": 185,
     "metadata": {},
     "output_type": "execute_result"
    },
    {
     "data": {
      "image/png": "[encoded data removed]",
      "text/plain": [
       "<Figure size 800x600 with 1 Axes>"
      ]
     },
     "metadata": {},
     "output_type": "display_data"
    }
   ],
   "source": [
    "plt.plot(torch.tensor(lossi).view(-1, 1000).mean(1))"
   ]
  },
  {
   "cell_type": "code",
   "execution_count": null,
   "metadata": {},
   "outputs": [],
   "source": [
    "# put layers into eval mode (needed for batchnorm especially)\n",
    "for layer in model.layers:\n",
    "  layer.training = False"
   ]
  },
  {
   "cell_type": "code",
   "execution_count": null,
   "metadata": {},
   "outputs": [
    {
     "name": "stdout",
     "output_type": "stream",
     "text": [
      "train 1.9210453033447266\n",
      "val 2.026059627532959\n"
     ]
    }
   ],
   "source": [
    "# evaluate the loss\n",
    "@torch.no_grad() # this decorator disables gradient tracking inside pytorch\n",
    "def split_loss(split):\n",
    "  X, y= {\n",
    "    'train': (Xtr, ytr),\n",
    "    'val': (Xval, yval),\n",
    "    'test': (Xte, yte),\n",
    "  }[split]\n",
    "  \n",
    "  logits = model(X)\n",
    "  loss = F.cross_entropy(logits, y)\n",
    "  print(split, loss.item())\n",
    "\n",
    "split_loss('train')\n",
    "split_loss('val')"
   ]
  },
  {
   "cell_type": "code",
   "execution_count": null,
   "metadata": {},
   "outputs": [
    {
     "name": "stdout",
     "output_type": "stream",
     "text": [
      "telan.\n",
      "rivel.\n",
      "jaleix.\n",
      "zeyelle.\n",
      "isabe.\n",
      "sifran.\n",
      "azlyn.\n",
      "jkerrie.\n",
      "kiti.\n",
      "norsandra.\n",
      "aaita.\n",
      "brek.\n",
      "alliza.\n",
      "olivere.\n",
      "laikynu.\n",
      "dezi.\n",
      "brixtage.\n",
      "jaynie.\n",
      "lami.\n",
      "silor.\n"
     ]
    }
   ],
   "source": [
    "# sample from the model\n",
    "\n",
    "for _ in range(20):\n",
    "\n",
    "    out = []\n",
    "    context = [0] * block_size # initialize with all ...\n",
    "    while True:\n",
    "      # forward pass\n",
    "      logits = model(torch.tensor([context]))\n",
    "      # sample\n",
    "      probs = F.softmax(logits, dim=1)\n",
    "      ix = torch.multinomial(probs, num_samples=1).item()\n",
    "      context = context[1:] + [ix]\n",
    "      out.append(ix)\n",
    "      if ix == 0:\n",
    "        break\n",
    "\n",
    "    print(''.join(itos[i] for i in out))"
   ]
  },
  {
   "cell_type": "code",
   "execution_count": null,
   "metadata": {},
   "outputs": [],
   "source": []
  }
 ],
 "metadata": {
  "kernelspec": {
   "display_name": "torch",
   "language": "python",
   "name": "python3"
  },
  "language_info": {
   "codemirror_mode": {
    "name": "ipython",
    "version": 3
   },
   "file_extension": ".py",
   "mimetype": "text/x-python",
   "name": "python",
   "nbconvert_exporter": "python",
   "pygments_lexer": "ipython3",
   "version": "3.10.13"
  }
 },
 "nbformat": 4,
 "nbformat_minor": 2
}
