{
 "cells": [
  {
   "cell_type": "code",
   "execution_count": 3,
   "metadata": {},
   "outputs": [],
   "source": [
    "import pandas as pd \n",
    "import torch \n",
    "import numpy as np \n",
    "# import tiktoken"
   ]
  },
  {
   "cell_type": "code",
   "execution_count": 4,
   "metadata": {},
   "outputs": [
    {
     "ename": "NameError",
     "evalue": "name 'tiktoken' is not defined",
     "output_type": "error",
     "traceback": [
      "\u001b[0;31m---------------------------------------------------------------------------\u001b[0m",
      "\u001b[0;31mNameError\u001b[0m                                 Traceback (most recent call last)",
      "Cell \u001b[0;32mIn[4], line 1\u001b[0m\n\u001b[0;32m----> 1\u001b[0m encoder \u001b[38;5;241m=\u001b[39m \u001b[43mtiktoken\u001b[49m\u001b[38;5;241m.\u001b[39mget_encoding(\u001b[38;5;124m'\u001b[39m\u001b[38;5;124mgpt2\u001b[39m\u001b[38;5;124m'\u001b[39m)\n\u001b[1;32m      2\u001b[0m encoder\u001b[38;5;241m.\u001b[39mn_vocab\n",
      "\u001b[0;31mNameError\u001b[0m: name 'tiktoken' is not defined"
     ]
    }
   ],
   "source": [
    "# encoder = tiktoken.get_encoding('gpt2')\n",
    "# encoder.n_vocab"
   ]
  },
  {
   "cell_type": "code",
   "execution_count": null,
   "metadata": {},
   "outputs": [
    {
     "data": {
      "text/plain": [
       "Index(['AU01_c', 'AU02_c', 'AU04_c', 'AU05_c', 'AU06_c', 'AU07_c', 'AU09_c',\n",
       "       'AU10_c', 'AU12_c', 'AU14_c', 'AU15_c', 'AU17_c', 'AU20_c', 'AU23_c',\n",
       "       'AU25_c', 'AU26_c', 'AU28_c', 'AU45_c'],\n",
       "      dtype='object')"
      ]
     },
     "execution_count": 3,
     "metadata": {},
     "output_type": "execute_result"
    }
   ],
   "source": [
    "df = pd.read_csv(\"/home/saandeepaath-admin/projects/learning/makemore/data/train_00448_aligned.csv\")\n",
    "df.columns[-18:]"
   ]
  },
  {
   "cell_type": "code",
   "execution_count": null,
   "metadata": {},
   "outputs": [
    {
     "data": {
      "text/plain": [
       "(238, 18)"
      ]
     },
     "execution_count": 4,
     "metadata": {},
     "output_type": "execute_result"
    }
   ],
   "source": [
    "au_cols = ['AU01_c', 'AU02_c', 'AU04_c', 'AU05_c', 'AU06_c', 'AU07_c', 'AU09_c',\n",
    "       'AU10_c', 'AU12_c', 'AU14_c', 'AU15_c', 'AU17_c', 'AU20_c', 'AU23_c',\n",
    "       'AU25_c', 'AU26_c', 'AU28_c', 'AU45_c']\n",
    "df_au = df[au_cols]\n",
    "df_au.shape"
   ]
  },
  {
   "cell_type": "code",
   "execution_count": null,
   "metadata": {},
   "outputs": [
    {
     "data": {
      "text/plain": [
       "torch.int64"
      ]
     },
     "execution_count": 5,
     "metadata": {},
     "output_type": "execute_result"
    }
   ],
   "source": [
    "au_arr = torch.from_numpy(df_au.to_numpy())\n",
    "au_arr = au_arr.type(torch.long)\n",
    "au_arr.dtype"
   ]
  },
  {
   "cell_type": "code",
   "execution_count": null,
   "metadata": {},
   "outputs": [
    {
     "ename": "NameError",
     "evalue": "name 'au_arr' is not defined",
     "output_type": "error",
     "traceback": [
      "\u001b[0;31m---------------------------------------------------------------------------\u001b[0m",
      "\u001b[0;31mNameError\u001b[0m                                 Traceback (most recent call last)",
      "Cell \u001b[0;32mIn[1], line 1\u001b[0m\n\u001b[0;32m----> 1\u001b[0m mag \u001b[38;5;241m=\u001b[39m \u001b[43mau_arr\u001b[49m[\u001b[38;5;241m0\u001b[39m] \u001b[38;5;66;03m# 1 \u001b[39;00m\n\u001b[1;32m      2\u001b[0m mag\n",
      "\u001b[0;31mNameError\u001b[0m: name 'au_arr' is not defined"
     ]
    }
   ],
   "source": [
    "mag = au_arr[0] # 1 \n",
    "mag"
   ]
  },
  {
   "cell_type": "code",
   "execution_count": null,
   "metadata": {},
   "outputs": [
    {
     "data": {
      "text/plain": [
       "tensor([131072,  65536,  32768,  16384,   8192,   4096,   2048,   1024,    512,\n",
       "           256,    128,     64,     32,     16,      8,      4,      2,      1])"
      ]
     },
     "execution_count": 7,
     "metadata": {},
     "output_type": "execute_result"
    }
   ],
   "source": [
    "powers_of_two = 2 ** torch.arange(au_arr.shape[1]-1, -1, -1, dtype=torch.long)\n",
    "powers_of_two"
   ]
  },
  {
   "cell_type": "code",
   "execution_count": null,
   "metadata": {},
   "outputs": [
    {
     "data": {
      "text/plain": [
       "tensor([198568,  49064, 145929,  26284, 212521,  90664,  48681,  48176, 206632,\n",
       "          5928,  49064,  44861,  59324, 177961,  46888, 209724, 153384,  12076,\n",
       "        243641,  13064,  16304, 157480,  48952, 147257,  45992, 254474,  97833,\n",
       "         46824,  16313, 227112,  16184,  13096, 178984, 227112, 135981,  76731,\n",
       "         81792, 177961,  81448,  77624, 178093, 140937,  48936,  91688,  26152,\n",
       "         47928, 197612, 229280, 231341, 147241, 177965, 206764,  14120,  37883,\n",
       "        212904,  47824,  10024,  74538,  48937, 147240, 145193,  14249,  48808,\n",
       "        202536, 161464, 243496, 147384, 141096, 261928,  93984, 206632, 226856,\n",
       "        205344,  44832,  63777, 206648, 147128, 242608, 144288, 190265, 242344,\n",
       "          8121, 111544,  60088,  47928, 147256,  30472, 212664,  14136,  16173,\n",
       "         17196,  12092, 260008, 212796,  10144, 146988, 143032, 210877, 210473,\n",
       "        176817,  77232,  73472,  12072,  12088,  66540,  47840, 161704,  81448,\n",
       "         17890, 210856,  97072,  94008,  16172,  69160, 144940, 227168,    421,\n",
       "        175928, 243500, 160400,  28424,  32680,  13096,  16184, 204585, 227104,\n",
       "         14248,  14088,  90336, 176928,   2872,  14088, 180220, 108960, 180136,\n",
       "        239272,     48, 121505, 212792, 182201, 208648, 145209,  70432,  75704,\n",
       "        126504, 144940,  15914, 208428, 210728, 147233,  16317, 210860,  81708,\n",
       "        179976,  72249,   9736,  16381,  28584, 228904,  46888, 210856, 209696,\n",
       "         42796,  14088, 180152, 173832,  14120,  26536,  16184, 211768, 215844,\n",
       "         11816, 173865,  49064,  47080,  44808,  29488, 219696, 252320,  81704,\n",
       "         48816,  79656,  48044,  14889,  16152, 190217, 212792, 212488, 203058,\n",
       "        156192, 133104,  93752,  48953,  80677,  47091, 218536,  78346,  14121,\n",
       "        110376,  48936, 194464,  98088, 243240, 209432,  12093,  49080, 212896,\n",
       "         16185,  93736,  48801,  14120, 147240,  14088, 213425, 179000,  27552,\n",
       "        208680,  81672,  79288, 196736, 200608,  67512, 213024,  16224,  74504,\n",
       "         49080,  30504, 245544,  14125, 212536,  32552,  48936,  81576, 236840,\n",
       "        145192, 212792,  16296,  45869])"
      ]
     },
     "execution_count": 12,
     "metadata": {},
     "output_type": "execute_result"
    }
   ],
   "source": [
    "au_arr_int = (au_arr * powers_of_two).sum(1)\n",
    "au_arr_int"
   ]
  },
  {
   "cell_type": "code",
   "execution_count": null,
   "metadata": {},
   "outputs": [],
   "source": [
    "embed = torch.nn.Embedding(2**18, 64)"
   ]
  },
  {
   "cell_type": "code",
   "execution_count": null,
   "metadata": {},
   "outputs": [
    {
     "data": {
      "text/plain": [
       "torch.Size([238, 64])"
      ]
     },
     "execution_count": 13,
     "metadata": {},
     "output_type": "execute_result"
    }
   ],
   "source": [
    "au_embed = embed(au_arr_int)\n",
    "au_embed.shape"
   ]
  },
  {
   "cell_type": "code",
   "execution_count": null,
   "metadata": {},
   "outputs": [],
   "source": []
  }
 ],
 "metadata": {
  "kernelspec": {
   "display_name": "torch",
   "language": "python",
   "name": "python3"
  },
  "language_info": {
   "codemirror_mode": {
    "name": "ipython",
    "version": 3
   },
   "file_extension": ".py",
   "mimetype": "text/x-python",
   "name": "python",
   "nbconvert_exporter": "python",
   "pygments_lexer": "ipython3",
   "version": "3.10.13"
  }
 },
 "nbformat": 4,
 "nbformat_minor": 2
}
