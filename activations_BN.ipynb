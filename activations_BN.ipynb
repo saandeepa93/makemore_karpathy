{
 "cells": [
  {
   "cell_type": "code",
   "execution_count": 1,
   "metadata": {},
   "outputs": [],
   "source": [
    "import torch \n",
    "from torch.nn import functional as F\n",
    "import matplotlib.pyplot as plt \n",
    "\n",
    "from sys import exit as e\n",
    "\n",
    "plt.rcParams['figure.figsize'] = (8, 6)"
   ]
  },
  {
   "cell_type": "code",
   "execution_count": 2,
   "metadata": {},
   "outputs": [
    {
     "name": "stdout",
     "output_type": "stream",
     "text": [
      "32033\n"
     ]
    }
   ],
   "source": [
    "words = open(\"./data/names.txt\", 'r').read().splitlines()\n",
    "print(len(words))"
   ]
  },
  {
   "cell_type": "code",
   "execution_count": 3,
   "metadata": {},
   "outputs": [
    {
     "data": {
      "text/plain": [
       "{1: 'a',\n",
       " 2: 'b',\n",
       " 3: 'c',\n",
       " 4: 'd',\n",
       " 5: 'e',\n",
       " 6: 'f',\n",
       " 7: 'g',\n",
       " 8: 'h',\n",
       " 9: 'i',\n",
       " 10: 'j',\n",
       " 11: 'k',\n",
       " 12: 'l',\n",
       " 13: 'm',\n",
       " 14: 'n',\n",
       " 15: 'o',\n",
       " 16: 'p',\n",
       " 17: 'q',\n",
       " 18: 'r',\n",
       " 19: 's',\n",
       " 20: 't',\n",
       " 21: 'u',\n",
       " 22: 'v',\n",
       " 23: 'w',\n",
       " 24: 'x',\n",
       " 25: 'y',\n",
       " 26: 'z',\n",
       " 0: '.'}"
      ]
     },
     "execution_count": 3,
     "metadata": {},
     "output_type": "execute_result"
    }
   ],
   "source": [
    "unique_char = sorted(list(set(''.join(words))))\n",
    "\n",
    "stoi = {c:i+1 for i, c in enumerate(unique_char)}\n",
    "stoi['.'] = 0\n",
    "itos = {i:s for s, i in stoi.items()}\n",
    "itos"
   ]
  },
  {
   "cell_type": "code",
   "execution_count": 4,
   "metadata": {},
   "outputs": [],
   "source": [
    "def build_dataset(words, block_size, stoi):\n",
    "  xs = []\n",
    "  ys = []\n",
    "  for word in words:\n",
    "    context = [0] * block_size\n",
    "    for ch in word + '.':\n",
    "      xs.append(context)\n",
    "      ys.append(stoi[ch])\n",
    "      # print(\"x: \", ''.join([itos[c] for c in context]))\n",
    "      # print(\"label: \", ch)\n",
    "      context = context[1:] + [stoi[ch]]\n",
    "  \n",
    "  xs = torch.tensor(xs)\n",
    "  ys = torch.tensor(ys)\n",
    "  return xs, ys"
   ]
  },
  {
   "cell_type": "code",
   "execution_count": 5,
   "metadata": {},
   "outputs": [
    {
     "name": "stdout",
     "output_type": "stream",
     "text": [
      "torch.Size([182625, 3]) torch.Size([22655, 3]) torch.Size([22866, 3])\n",
      "torch.Size([182625]) torch.Size([22655]) torch.Size([22866])\n"
     ]
    }
   ],
   "source": [
    "import random \n",
    "random.seed(42)\n",
    "random.shuffle(words)\n",
    "\n",
    "t1 = int(0.8 * len(words))\n",
    "t2 = int(0.9 * len(words))\n",
    "\n",
    "\n",
    "\n",
    "block_size = 3\n",
    "Xtr, ytr = build_dataset(words[:t1], block_size=block_size, stoi=stoi)\n",
    "Xval, yval = build_dataset(words[t1:t2], block_size=block_size, stoi=stoi)\n",
    "Xte, yte = build_dataset(words[t2:], block_size=block_size, stoi=stoi)\n",
    "\n",
    "print(Xtr.shape, Xval.shape, Xte.shape)\n",
    "print(ytr.shape, yval.shape, yte.shape)"
   ]
  },
  {
   "cell_type": "code",
   "execution_count": 18,
   "metadata": {},
   "outputs": [
    {
     "name": "stdout",
     "output_type": "stream",
     "text": [
      "12297\n"
     ]
    }
   ],
   "source": [
    "n_embed = 10 \n",
    "n_hidden = 200\n",
    "vocab_size = len(unique_char)+1\n",
    "\n",
    "g = torch.Generator().manual_seed(2147483647)\n",
    "C = torch.randn((vocab_size, n_embed), generator=g)\n",
    "W1 = torch.randn((n_embed*block_size, n_hidden), generator=g) * 0.02 # Kaiming Init to maintain std of weights in forward propagation\n",
    "b1 = torch.randn((n_hidden), generator=g) * 0.01\n",
    "W2 = torch.randn((n_hidden, vocab_size), generator=g) * 0.01\n",
    "b2 = torch.randn((vocab_size), generator=g) * 0\n",
    "\n",
    "W1bn_gain = torch.ones((1, n_hidden))\n",
    "W1bn_bias = torch.zeros((1, n_hidden))\n",
    "\n",
    "parameters = [C, W1, b1, W2, b2, W1bn_gain, W1bn_bias]\n",
    "\n",
    "# REDUNDANT BUT FOLLOW THIS\n",
    "for p in parameters:\n",
    "  p.requires_grad = True \n",
    "\n",
    "running_bmean = torch.zeros((1, n_hidden))\n",
    "running_bstd = torch.ones(1, n_hidden)\n",
    "\n",
    "print(sum(p.nelement() for p in parameters))"
   ]
  },
  {
   "cell_type": "code",
   "execution_count": 19,
   "metadata": {},
   "outputs": [
    {
     "name": "stdout",
     "output_type": "stream",
     "text": [
      "0/200000: 3.3146889209747314\n",
      "10000/200000: 2.1549839973449707\n",
      "20000/200000: 2.305853843688965\n",
      "30000/200000: 2.4165210723876953\n",
      "40000/200000: 1.950498342514038\n",
      "50000/200000: 2.2924675941467285\n",
      "60000/200000: 2.391138792037964\n",
      "70000/200000: 2.0872690677642822\n",
      "80000/200000: 2.3733530044555664\n",
      "90000/200000: 2.15968918800354\n",
      "100000/200000: 1.9075390100479126\n",
      "110000/200000: 2.2213664054870605\n",
      "120000/200000: 1.8906158208847046\n",
      "130000/200000: 2.4626622200012207\n",
      "140000/200000: 2.377314567565918\n",
      "150000/200000: 2.228055238723755\n",
      "160000/200000: 1.8634312152862549\n",
      "170000/200000: 1.800894021987915\n",
      "180000/200000: 2.063849449157715\n",
      "190000/200000: 1.926555871963501\n",
      "200000/200000: 2.269064426422119\n"
     ]
    }
   ],
   "source": [
    "epochs = 200000\n",
    "batch_size = 32 \n",
    "total_loss = []\n",
    "steps = []\n",
    "\n",
    "for epoch in range(epochs+1):\n",
    "  b_idx = torch.randint(0, Xtr.shape[0], size=(batch_size, ), generator=g)\n",
    "  Xb = Xtr[b_idx]\n",
    "  yb = ytr[b_idx]\n",
    "\n",
    "  emb = C[Xb]\n",
    "  embcat = emb.view(batch_size, -1)\n",
    "  hpreact = embcat @ W1 + b1\n",
    "\n",
    "  # Batch Normalization\n",
    "  bmean_epoch = hpreact.mean(0, keepdim=True)\n",
    "  bstd_epoch = hpreact.std(0, keepdim=True)\n",
    "  hpreact = W1bn_gain * (hpreact - bmean_epoch)/bstd_epoch + W1bn_bias\n",
    "\n",
    "  h = torch.tanh(hpreact)\n",
    "  logits = h @ W2 + b2 \n",
    "\n",
    "  with torch.no_grad():\n",
    "    running_bmean = 0.999* running_bmean + 0.001 * bmean_epoch \n",
    "    running_bstd = 0.999* running_bstd + 0.001 * bstd_epoch \n",
    "\n",
    "  loss = F.cross_entropy(logits, yb)\n",
    "\n",
    "  lr = 0.1 if epoch < 100000 else 0.01\n",
    "  for p in parameters:\n",
    "    p.grad = None \n",
    "  loss.backward()\n",
    "  for p in parameters:\n",
    "    p.data += -lr * p.grad\n",
    "  \n",
    "  if epoch % 10000 ==0:\n",
    "    print(f\"{epoch}/{epochs}: {loss.item()}\")\n",
    "  total_loss.append(loss.log10().item())\n",
    "\n",
    "\n",
    "\n"
   ]
  },
  {
   "cell_type": "code",
   "execution_count": 15,
   "metadata": {},
   "outputs": [],
   "source": [
    "with torch.no_grad():\n",
    "  emb = C[Xtr]\n",
    "  embcat = emb.view(emb.shape[0], -1)\n",
    "  hpreact = embcat @ W1 + b1\n",
    "  bmean = hpreact.mean(0, keepdim=True)\n",
    "  bstd = hpreact.std(0, keepdim=True)"
   ]
  },
  {
   "cell_type": "code",
   "execution_count": 8,
   "metadata": {},
   "outputs": [
    {
     "data": {
      "image/png": "[encoded data removed]",
      "text/plain": [
       "<Figure size 800x600 with 1 Axes>"
      ]
     },
     "metadata": {},
     "output_type": "display_data"
    }
   ],
   "source": [
    "plt.hist(h.flatten().detach(), 50);"
   ]
  },
  {
   "cell_type": "code",
   "execution_count": 9,
   "metadata": {},
   "outputs": [
    {
     "data": {
      "image/png": "[encoded data removed]",
      "text/plain": [
       "<Figure size 800x600 with 1 Axes>"
      ]
     },
     "metadata": {},
     "output_type": "display_data"
    }
   ],
   "source": [
    "plt.hist(hpreact.flatten().detach(), 50);"
   ]
  },
  {
   "cell_type": "code",
   "execution_count": 10,
   "metadata": {},
   "outputs": [
    {
     "data": {
      "image/png": "[encoded data removed]",
      "text/plain": [
       "<Figure size 800x600 with 1 Axes>"
      ]
     },
     "metadata": {},
     "output_type": "display_data"
    }
   ],
   "source": [
    "plt.imshow(h.detach(), cmap='gray')\n",
    "plt.show()"
   ]
  },
  {
   "cell_type": "code",
   "execution_count": 20,
   "metadata": {},
   "outputs": [
    {
     "name": "stdout",
     "output_type": "stream",
     "text": [
      "2.0583784580230713\n",
      "2.106937885284424\n"
     ]
    }
   ],
   "source": [
    "@torch.no_grad()\n",
    "def split_loss(split):\n",
    "  data_dict = {\n",
    "    'train': (Xtr, ytr), \n",
    "    'val': (Xval, yval), \n",
    "    'test': (Xte, yte)\n",
    "  }\n",
    "  X, y = data_dict[split]\n",
    "\n",
    "  embcat = C[X].view(X.shape[0], -1)\n",
    "  hpreact = embcat @ W1 + b1\n",
    "  hpreact = W1bn_gain * ((hpreact - running_bmean)/running_bstd) + W1bn_bias\n",
    "  h = torch.tanh(hpreact)\n",
    "  logits = h @ W2 + b2 \n",
    "  loss = F.cross_entropy(logits, y)\n",
    "  print(loss.item())\n",
    "\n",
    "split_loss('train')\n",
    "split_loss('val')\n",
    "  "
   ]
  },
  {
   "cell_type": "code",
   "execution_count": 21,
   "metadata": {},
   "outputs": [
    {
     "name": "stdout",
     "output_type": "stream",
     "text": [
      "kadenavarlindicon.\n",
      "hosapthan.\n",
      "emna.\n",
      "greela.\n",
      "oco.\n",
      "keen.\n",
      "awellian.\n",
      "emotyn.\n",
      "abeus.\n",
      "jose.\n",
      "shan.\n",
      "liah.\n",
      "bry.\n",
      "raniyan.\n",
      "nylaylin.\n",
      "kotana.\n",
      "aleah.\n",
      "jazeegan.\n",
      "pisreena.\n",
      "ariyaan.\n"
     ]
    }
   ],
   "source": [
    "g1 = torch.Generator().manual_seed(2147483647+10)\n",
    "\n",
    "for _ in range(20):\n",
    "  out = []\n",
    "  context = [0] * block_size\n",
    "  while True:\n",
    "    embcat = C[torch.tensor(context)].view(1, -1)\n",
    "    hpreact = embcat @ W1 + b1 \n",
    "    hpreact = W1bn_gain * ((hpreact - running_bmean)/running_bstd) + W1bn_bias\n",
    "    h = torch.tanh(hpreact)\n",
    "    logits = h @ W2 + b2 \n",
    "\n",
    "    probs = F.softmax(logits, dim=-1)\n",
    "\n",
    "    ix = torch.multinomial(probs, 1, generator=g).item()\n",
    "    out.append(ix)\n",
    "\n",
    "    if ix == 0:\n",
    "      break\n",
    "    context = context[1:] + [ix]\n",
    "\n",
    "  print(''.join(itos[o] for o in out))\n",
    "\n"
   ]
  },
  {
   "cell_type": "code",
   "execution_count": null,
   "metadata": {},
   "outputs": [],
   "source": []
  }
 ],
 "metadata": {
  "kernelspec": {
   "display_name": "torch",
   "language": "python",
   "name": "python3"
  },
  "language_info": {
   "codemirror_mode": {
    "name": "ipython",
    "version": 3
   },
   "file_extension": ".py",
   "mimetype": "text/x-python",
   "name": "python",
   "nbconvert_exporter": "python",
   "pygments_lexer": "ipython3",
   "version": "3.10.13"
  }
 },
 "nbformat": 4,
 "nbformat_minor": 2
}
